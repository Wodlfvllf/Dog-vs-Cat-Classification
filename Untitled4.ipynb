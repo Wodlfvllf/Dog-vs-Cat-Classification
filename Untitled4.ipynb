{
 "cells": [
  {
   "cell_type": "code",
   "execution_count": 1,
   "id": "10a872c1",
   "metadata": {},
   "outputs": [],
   "source": [
    "import os"
   ]
  },
  {
   "cell_type": "code",
   "execution_count": 9,
   "id": "8c77d266",
   "metadata": {},
   "outputs": [],
   "source": [
    "train_cats_dir = os.path.join('./env_site/cats_and_dogs_filtered/train/cats')"
   ]
  },
  {
   "cell_type": "code",
   "execution_count": 10,
   "id": "9db9bbbc",
   "metadata": {},
   "outputs": [],
   "source": [
    "train_dogs_dir = os.path.join('./env_site/cats_and_dogs_filtered/train/dogs')"
   ]
  },
  {
   "cell_type": "code",
   "execution_count": 11,
   "id": "a0279284",
   "metadata": {},
   "outputs": [
    {
     "name": "stdout",
     "output_type": "stream",
     "text": [
      "['cat.952.jpg', 'cat.946.jpg', 'cat.6.jpg', 'cat.749.jpg', 'cat.991.jpg', 'cat.985.jpg', 'cat.775.jpg', 'cat.761.jpg', 'cat.588.jpg', 'cat.239.jpg']\n",
      "['dog.775.jpg', 'dog.761.jpg', 'dog.991.jpg', 'dog.749.jpg', 'dog.985.jpg', 'dog.952.jpg', 'dog.946.jpg', 'dog.211.jpg', 'dog.577.jpg', 'dog.563.jpg']\n"
     ]
    }
   ],
   "source": [
    "train_cat_fnames = os.listdir( train_cats_dir )\n",
    "train_dog_fnames = os.listdir( train_dogs_dir )\n",
    "\n",
    "print(train_cat_fnames[:10])\n",
    "print(train_dog_fnames[:10])"
   ]
  },
  {
   "cell_type": "code",
   "execution_count": 12,
   "id": "050f9fb8",
   "metadata": {},
   "outputs": [],
   "source": [
    "validation_cats_dir = os.path.join('./env_site/cats_and_dogs_filtered/validation/cats')"
   ]
  },
  {
   "cell_type": "code",
   "execution_count": 13,
   "id": "f9eb3924",
   "metadata": {},
   "outputs": [],
   "source": [
    "validation_dogs_dir = os.path.join('./env_site/cats_and_dogs_filtered/validation/dogs')"
   ]
  },
  {
   "cell_type": "code",
   "execution_count": 14,
   "id": "05ce9bc5",
   "metadata": {},
   "outputs": [
    {
     "name": "stdout",
     "output_type": "stream",
     "text": [
      "total training cat images : 1000\n",
      "total training dog images : 1000\n",
      "total validation cat images : 500\n",
      "total validation dog images : 500\n"
     ]
    }
   ],
   "source": [
    "\n",
    "print('total training cat images :', len(os.listdir(train_cats_dir ) ))\n",
    "print('total training dog images :', len(os.listdir(train_dogs_dir ) ))\n",
    "\n",
    "print('total validation cat images :', len(os.listdir(validation_cats_dir ) ))\n",
    "print('total validation dog images :', len(os.listdir(validation_dogs_dir ) ))"
   ]
  },
  {
   "cell_type": "code",
   "execution_count": 15,
   "id": "9154c612",
   "metadata": {},
   "outputs": [
    {
     "name": "stdout",
     "output_type": "stream",
     "text": [
      "Metal device set to: Apple M1\n"
     ]
    },
    {
     "name": "stderr",
     "output_type": "stream",
     "text": [
      "2022-12-10 13:50:28.970605: I tensorflow/core/common_runtime/pluggable_device/pluggable_device_factory.cc:306] Could not identify NUMA node of platform GPU ID 0, defaulting to 0. Your kernel may not have been built with NUMA support.\n",
      "2022-12-10 13:50:28.971197: I tensorflow/core/common_runtime/pluggable_device/pluggable_device_factory.cc:272] Created TensorFlow device (/job:localhost/replica:0/task:0/device:GPU:0 with 0 MB memory) -> physical PluggableDevice (device: 0, name: METAL, pci bus id: <undefined>)\n"
     ]
    }
   ],
   "source": [
    "import tensorflow as tf\n",
    "\n",
    "model = tf.keras.models.Sequential([\n",
    "    # Note the input shape is the desired size of the image 150x150 with 3 bytes color\n",
    "    tf.keras.layers.Conv2D(16, (3,3), activation='relu', input_shape=(150, 150, 3)),\n",
    "    tf.keras.layers.MaxPooling2D(2,2),\n",
    "    tf.keras.layers.Conv2D(32, (3,3), activation='relu'),\n",
    "    tf.keras.layers.MaxPooling2D(2,2), \n",
    "    tf.keras.layers.Conv2D(64, (3,3), activation='relu'), \n",
    "    tf.keras.layers.MaxPooling2D(2,2),\n",
    "    # Flatten the results to feed into a DNN\n",
    "    tf.keras.layers.Flatten(), \n",
    "    # 512 neuron hidden layer\n",
    "    tf.keras.layers.Dense(512, activation='relu'), \n",
    "    # Only 1 output neuron. It will contain a value from 0-1 where 0 for 1 class ('cats') and 1 for the other ('dogs')\n",
    "    tf.keras.layers.Dense(1, activation='sigmoid')  \n",
    "])"
   ]
  },
  {
   "cell_type": "code",
   "execution_count": 16,
   "id": "5e49cfe8",
   "metadata": {},
   "outputs": [
    {
     "name": "stdout",
     "output_type": "stream",
     "text": [
      "Model: \"sequential\"\n",
      "_________________________________________________________________\n",
      " Layer (type)                Output Shape              Param #   \n",
      "=================================================================\n",
      " conv2d (Conv2D)             (None, 148, 148, 16)      448       \n",
      "                                                                 \n",
      " max_pooling2d (MaxPooling2D  (None, 74, 74, 16)       0         \n",
      " )                                                               \n",
      "                                                                 \n",
      " conv2d_1 (Conv2D)           (None, 72, 72, 32)        4640      \n",
      "                                                                 \n",
      " max_pooling2d_1 (MaxPooling  (None, 36, 36, 32)       0         \n",
      " 2D)                                                             \n",
      "                                                                 \n",
      " conv2d_2 (Conv2D)           (None, 34, 34, 64)        18496     \n",
      "                                                                 \n",
      " max_pooling2d_2 (MaxPooling  (None, 17, 17, 64)       0         \n",
      " 2D)                                                             \n",
      "                                                                 \n",
      " flatten (Flatten)           (None, 18496)             0         \n",
      "                                                                 \n",
      " dense (Dense)               (None, 512)               9470464   \n",
      "                                                                 \n",
      " dense_1 (Dense)             (None, 1)                 513       \n",
      "                                                                 \n",
      "=================================================================\n",
      "Total params: 9,494,561\n",
      "Trainable params: 9,494,561\n",
      "Non-trainable params: 0\n",
      "_________________________________________________________________\n"
     ]
    }
   ],
   "source": [
    "model.summary()"
   ]
  },
  {
   "cell_type": "code",
   "execution_count": 17,
   "id": "54871a2a",
   "metadata": {},
   "outputs": [],
   "source": [
    "\n",
    "from tensorflow.keras.optimizers import RMSprop\n",
    "\n",
    "model.compile(optimizer=RMSprop(learning_rate=0.001),\n",
    "              loss='binary_crossentropy',\n",
    "              metrics = ['accuracy'])\n"
   ]
  },
  {
   "cell_type": "code",
   "execution_count": 19,
   "id": "634f8009",
   "metadata": {},
   "outputs": [],
   "source": [
    "train_dir = os.path.join('./env_site/cats_and_dogs_filtered/train/')"
   ]
  },
  {
   "cell_type": "code",
   "execution_count": 22,
   "id": "447f833f",
   "metadata": {},
   "outputs": [],
   "source": [
    "validation_dir = os.path.join('./env_site/cats_and_dogs_filtered/validation/')"
   ]
  },
  {
   "cell_type": "code",
   "execution_count": 23,
   "id": "7b8cf431",
   "metadata": {},
   "outputs": [
    {
     "name": "stdout",
     "output_type": "stream",
     "text": [
      "Found 1000 images belonging to 2 classes.\n",
      "Found 1000 images belonging to 2 classes.\n"
     ]
    }
   ],
   "source": [
    "from tensorflow.keras.preprocessing.image import ImageDataGenerator\n",
    "\n",
    "# All images will be rescaled by 1./255.\n",
    "train_datagen = ImageDataGenerator( rescale = 1.0/255. )\n",
    "test_datagen  = ImageDataGenerator( rescale = 1.0/255. )\n",
    "\n",
    "# --------------------\n",
    "# Flow training images in batches of 20 using train_datagen generator\n",
    "# --------------------\n",
    "train_generator = train_datagen.flow_from_directory(train_dir,\n",
    "                                                    batch_size=20,\n",
    "                                                    class_mode='binary',\n",
    "                                                    target_size=(150, 150))     \n",
    "# --------------------\n",
    "# Flow validation images in batches of 20 using test_datagen generator\n",
    "# --------------------\n",
    "validation_generator =  test_datagen.flow_from_directory(validation_dir,\n",
    "                                                         batch_size=20,\n",
    "                                                         class_mode  = 'binary',\n",
    "                                                         target_size = (150, 150))"
   ]
  },
  {
   "cell_type": "code",
   "execution_count": 24,
   "id": "a45a50ec",
   "metadata": {},
   "outputs": [
    {
     "name": "stdout",
     "output_type": "stream",
     "text": [
      "Epoch 1/15\n"
     ]
    },
    {
     "name": "stderr",
     "output_type": "stream",
     "text": [
      "2022-12-10 13:54:00.537779: W tensorflow/core/platform/profile_utils/cpu_utils.cc:128] Failed to get CPU frequency: 0 Hz\n",
      "2022-12-10 13:54:01.076083: I tensorflow/core/grappler/optimizers/custom_graph_optimizer_registry.cc:114] Plugin optimizer for device_type GPU is enabled.\n",
      "2022-12-10 13:54:06.049954: I tensorflow/core/grappler/optimizers/custom_graph_optimizer_registry.cc:114] Plugin optimizer for device_type GPU is enabled.\n"
     ]
    },
    {
     "name": "stdout",
     "output_type": "stream",
     "text": [
      "50/50 - 7s - loss: 0.8541 - accuracy: 0.5450 - val_loss: 0.9538 - val_accuracy: 0.5000 - 7s/epoch - 148ms/step\n",
      "Epoch 2/15\n",
      "50/50 - 6s - loss: 0.6814 - accuracy: 0.5960 - val_loss: 0.6497 - val_accuracy: 0.6770 - 6s/epoch - 111ms/step\n",
      "Epoch 3/15\n",
      "50/50 - 5s - loss: 0.6107 - accuracy: 0.6480 - val_loss: 0.5153 - val_accuracy: 0.7880 - 5s/epoch - 98ms/step\n",
      "Epoch 4/15\n",
      "50/50 - 6s - loss: 0.5379 - accuracy: 0.7140 - val_loss: 0.4573 - val_accuracy: 0.8030 - 6s/epoch - 110ms/step\n",
      "Epoch 5/15\n",
      "50/50 - 5s - loss: 0.4702 - accuracy: 0.7750 - val_loss: 0.3719 - val_accuracy: 0.8230 - 5s/epoch - 103ms/step\n",
      "Epoch 6/15\n",
      "50/50 - 5s - loss: 0.3652 - accuracy: 0.8440 - val_loss: 0.2911 - val_accuracy: 0.8880 - 5s/epoch - 103ms/step\n",
      "Epoch 7/15\n",
      "50/50 - 5s - loss: 0.2635 - accuracy: 0.8890 - val_loss: 0.1416 - val_accuracy: 0.9570 - 5s/epoch - 99ms/step\n",
      "Epoch 8/15\n",
      "50/50 - 6s - loss: 0.2154 - accuracy: 0.9140 - val_loss: 0.1108 - val_accuracy: 0.9670 - 6s/epoch - 110ms/step\n",
      "Epoch 9/15\n",
      "50/50 - 5s - loss: 0.1590 - accuracy: 0.9450 - val_loss: 0.0485 - val_accuracy: 0.9890 - 5s/epoch - 102ms/step\n",
      "Epoch 10/15\n",
      "50/50 - 5s - loss: 0.1280 - accuracy: 0.9560 - val_loss: 0.0806 - val_accuracy: 0.9740 - 5s/epoch - 99ms/step\n",
      "Epoch 11/15\n",
      "50/50 - 5s - loss: 0.0677 - accuracy: 0.9780 - val_loss: 0.0421 - val_accuracy: 0.9860 - 5s/epoch - 105ms/step\n",
      "Epoch 12/15\n",
      "50/50 - 5s - loss: 0.0793 - accuracy: 0.9810 - val_loss: 0.0088 - val_accuracy: 0.9990 - 5s/epoch - 101ms/step\n",
      "Epoch 13/15\n",
      "50/50 - 5s - loss: 0.0972 - accuracy: 0.9870 - val_loss: 0.0044 - val_accuracy: 1.0000 - 5s/epoch - 101ms/step\n",
      "Epoch 14/15\n",
      "50/50 - 5s - loss: 0.0719 - accuracy: 0.9830 - val_loss: 0.0027 - val_accuracy: 1.0000 - 5s/epoch - 105ms/step\n",
      "Epoch 15/15\n",
      "50/50 - 5s - loss: 0.1637 - accuracy: 0.9850 - val_loss: 0.0077 - val_accuracy: 0.9990 - 5s/epoch - 102ms/step\n"
     ]
    }
   ],
   "source": [
    "\n",
    "\n",
    "history = model.fit(\n",
    "            train_generator,\n",
    "            epochs=15,\n",
    "            validation_data=validation_generator,\n",
    "            verbose=2\n",
    "            )\n",
    "\n",
    "\n",
    "\n",
    "     \n"
   ]
  },
  {
   "cell_type": "code",
   "execution_count": 27,
   "id": "95fa1e3c",
   "metadata": {},
   "outputs": [
    {
     "name": "stdout",
     "output_type": "stream",
     "text": [
      "['4.jpg', '5.jpg', '2.jpg', '3.jpg', '1.jpg']\n",
      "\n"
     ]
    },
    {
     "name": "stderr",
     "output_type": "stream",
     "text": [
      "2022-12-10 13:59:19.998769: I tensorflow/core/grappler/optimizers/custom_graph_optimizer_registry.cc:114] Plugin optimizer for device_type GPU is enabled.\n"
     ]
    },
    {
     "name": "stdout",
     "output_type": "stream",
     "text": [
      "1/1 [==============================] - 0s 245ms/step\n",
      "[1.]\n",
      "4.jpg is a dog\n",
      "\n",
      "1/1 [==============================] - 0s 15ms/step\n",
      "[0.6439954]\n",
      "5.jpg is a dog\n",
      "\n",
      "1/1 [==============================] - 0s 16ms/step\n",
      "[0.99879056]\n",
      "2.jpg is a dog\n",
      "\n",
      "1/1 [==============================] - 0s 14ms/step\n",
      "[0.00721174]\n",
      "3.jpg is a cat\n",
      "\n",
      "1/1 [==============================] - 0s 15ms/step\n",
      "[0.04492586]\n",
      "1.jpg is a cat\n"
     ]
    }
   ],
   "source": [
    "import numpy as np\n",
    "from tensorflow.keras.utils import load_img, img_to_array\n",
    "import os\n",
    "\n",
    "images = os.listdir(\"./env_site/images\")\n",
    "\n",
    "print(images)\n",
    "\n",
    "for i in images:\n",
    "    print()\n",
    "    path = './env_site/images/' + i\n",
    "    img = load_img(path, target_size=(150, 150))\n",
    "    x = img_to_array(img)\n",
    "    x /= 255\n",
    "    x = np.expand_dims(x, axis=0)\n",
    "\n",
    "    images = np.vstack([x])\n",
    "    classes = model.predict(images, batch_size=10)\n",
    "    print(classes[0])\n",
    "    if classes[0]>0.5:\n",
    "        print(i + \" is a dog\")\n",
    "    else:\n",
    "        print(i + \" is a cat\")"
   ]
  },
  {
   "cell_type": "code",
   "execution_count": null,
   "id": "ddbf6b67",
   "metadata": {},
   "outputs": [],
   "source": []
  }
 ],
 "metadata": {
  "kernelspec": {
   "display_name": "Python (DeepL)",
   "language": "python",
   "name": "deepl"
  },
  "language_info": {
   "codemirror_mode": {
    "name": "ipython",
    "version": 3
   },
   "file_extension": ".py",
   "mimetype": "text/x-python",
   "name": "python",
   "nbconvert_exporter": "python",
   "pygments_lexer": "ipython3",
   "version": "3.8.13"
  }
 },
 "nbformat": 4,
 "nbformat_minor": 5
}
